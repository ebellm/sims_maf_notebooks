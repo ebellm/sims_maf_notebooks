{
 "metadata": {
  "kernelspec": {
   "display_name": "Python 2",
   "language": "python",
   "name": "python2"
  },
  "language_info": {
   "codemirror_mode": {
    "name": "ipython",
    "version": 2
   },
   "file_extension": ".py",
   "mimetype": "text/x-python",
   "name": "python",
   "nbconvert_exporter": "python",
   "pygments_lexer": "ipython2",
   "version": "2.7.9"
  },
  "name": "",
  "signature": "sha256:ccfe3d907dc29c96668d5c6574d215a57bd3917dc5eba90a05298262d4868d81"
 },
 "nbformat": 3,
 "nbformat_minor": 0,
 "worksheets": [
  {
   "cells": [
    {
     "cell_type": "markdown",
     "metadata": {},
     "source": [
      "Let's vizualize the sequence of observations from a spot in the sky.  "
     ]
    },
    {
     "cell_type": "code",
     "collapsed": false,
     "input": [
      "import numpy as np\n",
      "import matplotlib.pyplot as plt\n",
      "%matplotlib inline\n",
      "import lsst.sims.maf.slicers as slicers\n",
      "import lsst.sims.maf.metrics as metrics\n",
      "import lsst.sims.maf.metricBundles as metricBundles\n",
      "import lsst.sims.maf.db as db"
     ],
     "language": "python",
     "metadata": {},
     "outputs": [],
     "prompt_number": 1
    },
    {
     "cell_type": "code",
     "collapsed": true,
     "input": [
      "class PassMetric(metrics.BaseMetric):\n",
      "    \"\"\"\n",
      "    Just pass the entire array through\n",
      "    \"\"\"\n",
      "    def __init__(self, cols=None, **kwargs):\n",
      "        if cols is None:\n",
      "            cols= []\n",
      "        super(PassMetric, self).__init__(col=cols, metricDtype='object', **kwargs)\n",
      "    def run(self, dataSlice, slicePoint=None):\n",
      "        return dataSlice"
     ],
     "language": "python",
     "metadata": {},
     "outputs": [],
     "prompt_number": 2
    },
    {
     "cell_type": "code",
     "collapsed": false,
     "input": [
      "runName = 'enigma_1189'\n",
      "\n",
      "opsdb = db.OpsimDatabase('sqlite:///'+runName + '_sqlite.db')\n",
      "outDir = 'Transients'\n",
      "resultsDb = db.ResultsDb(outDir=outDir)"
     ],
     "language": "python",
     "metadata": {},
     "outputs": [],
     "prompt_number": 4
    },
    {
     "cell_type": "code",
     "collapsed": false,
     "input": [
      "metric=PassMetric(cols=['expMJD', 'fiveSigmaDepth', 'filter'])\n",
      "ra = [0.]\n",
      "dec = [np.radians(-30.)]\n",
      "slicer = slicers.UserPointsSlicer(ra=ra,dec=dec)\n",
      "sqlconstraint = 'night < 365'"
     ],
     "language": "python",
     "metadata": {},
     "outputs": [],
     "prompt_number": 5
    },
    {
     "cell_type": "code",
     "collapsed": false,
     "input": [
      "bundle = metricBundles.MetricBundle(metric, slicer, sqlconstraint, runName=runName)\n",
      "bgroup = metricBundles.MetricBundleGroup({0:bundle}, opsdb, outDir=outDir, resultsDb=resultsDb)\n",
      "bgroup.runAll()"
     ],
     "language": "python",
     "metadata": {},
     "outputs": [
      {
       "output_type": "stream",
       "stream": "stdout",
       "text": [
        "Querying database with constraint night < 365\n",
        "Found 271946 visits"
       ]
      },
      {
       "output_type": "stream",
       "stream": "stdout",
       "text": [
        "\n",
        "Running:  [0]\n",
        "Completed metric generation."
       ]
      },
      {
       "output_type": "stream",
       "stream": "stdout",
       "text": [
        "\n",
        "Running reduce methods.\n",
        "Running summary statistics.\n",
        "Completed.\n"
       ]
      }
     ],
     "prompt_number": 6
    },
    {
     "cell_type": "code",
     "collapsed": false,
     "input": [
      "filters = np.unique(bundle.metricValues[0].compressed()['filter'])\n",
      "colors = {'u':'b','g':'g','r':'r','i':'purple',\"z\":'y',\"y\":'magenta'}"
     ],
     "language": "python",
     "metadata": {},
     "outputs": [],
     "prompt_number": 7
    },
    {
     "cell_type": "code",
     "collapsed": false,
     "input": [
      "mv = bundle.metricValues[0].compressed()\n",
      "for filterName in filters:\n",
      "    good = np.where(mv['filter'] == filterName)\n",
      "    plt.scatter(mv['expMJD'][good]-mv['expMJD'].min(), mv['fiveSigmaDepth'][good], \n",
      "                c=colors[filterName], label=filterName)\n",
      "plt.xlabel('Day')\n",
      "plt.ylabel('5$\\sigma$ depth (mags)')\n",
      "plt.xlim([0,100])\n",
      "plt.legend(scatterpoints=1)"
     ],
     "language": "python",
     "metadata": {},
     "outputs": [
      {
       "metadata": {},
       "output_type": "pyout",
       "prompt_number": 8,
       "text": [
        "<matplotlib.legend.Legend at 0x11a415d90>"
       ]
      },
      {
       "metadata": {},
       "output_type": "display_data",
       "png": "[encoded data removed]",
       "text": [
        "<matplotlib.figure.Figure at 0x11a415d10>"
       ]
      }
     ],
     "prompt_number": 8
    },
    {
     "cell_type": "code",
     "collapsed": false,
     "input": [],
     "language": "python",
     "metadata": {},
     "outputs": [],
     "prompt_number": 30
    },
    {
     "cell_type": "code",
     "collapsed": false,
     "input": [],
     "language": "python",
     "metadata": {},
     "outputs": [],
     "prompt_number": null
    }
   ],
   "metadata": {}
  }
 ]
}